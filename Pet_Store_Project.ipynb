{
 "cells": [
  {
   "cell_type": "markdown",
   "metadata": {},
   "source": [
    " # 1. Introduction: Business Problem "
   ]
  },
  {
   "cell_type": "markdown",
   "metadata": {},
   "source": [
    "In this project, I would like to find out a suitable location for a pet company to expand its business in New York City. The\n",
    "demand of pet food, pet toy and other pet supplies will be the concern of the pet company. Therefore, todiscover the most \n",
    "suitable location, we need to figure out the places of the greatest concentrationo of dogs. "
   ]
  },
  {
   "cell_type": "markdown",
   "metadata": {},
   "source": [
    "# 2. Data"
   ]
  },
  {
   "cell_type": "markdown",
   "metadata": {},
   "source": [
    "New York has a total of 5 boroughs and 306 neighborhoods. It is necessarilty to have a dataset which contains all 5 boroughs and the 306 neighborhoods that exist in each borough, also the the latitude and logitude coordinates of each neighborhood.\n",
    "We are able to find the dataset from following links:\n",
    "https://data.cityofnewyork.us/City-Government/Borough-Boundaries/tqmj-j8zm\n",
    "\n",
    "https://data.beta.nyc/en/dataset/pediacities-nyc-neighborhoods/resource/7caac650-d082-4aea-9f9b-3681d568e8a5?inner_span=True\n",
    "\n",
    "https://data.beta.nyc/dataset/pediacities-nyc-neighborhoods\n",
    "\n",
    "In addition, we need a dataset about the license of dogs in NYC. We are able to find the dataset from NYC OpenData page: https://data.cityofnewyork.us/Health/NYC-Dog-Licensing-Dataset/nu7n-tubp\n",
    "\n",
    "The original datasets called \"df_merged\" include data as follow:\n",
    "RowNumber, AnimalName, AnimalGender, AnimalBirthMonth, BreedName, Borough, ZipCode, LicenseIssuedDate, LicenseExpiredDate, Extract Year, borough, post_office, neighborhood, population, density.\n",
    "\n",
    "Another dataset called \"df_segmentation2\" is the one we need to getting familiar with the customers and will include data as follow: \n",
    "Dogs_Name, Dogs_Gender, Dogs_BirthYear ,Breed_Name, Borough, Neighborhood.\n",
    "\n",
    "We need to find out the place which is the greatest concentration of dogs, there be the place for pet company to expand."
   ]
  },
  {
   "cell_type": "code",
   "execution_count": 3,
   "metadata": {},
   "outputs": [
    {
     "name": "stdout",
     "output_type": "stream",
     "text": [
      "Requirement already satisfied: geopy in e:\\iris\\lib\\site-packages (2.0.0)\n",
      "Requirement already satisfied: geographiclib<2,>=1.49 in e:\\iris\\lib\\site-packages (from geopy) (1.50)\n",
      "Libraries imported.\n"
     ]
    }
   ],
   "source": [
    "# Import the libraries first!\n",
    "\n",
    "import matplotlib.cm as cm\n",
    "import matplotlib.colors as colors\n",
    "import matplotlib.pyplot as plt\n",
    "\n",
    "import json\n",
    "import numpy as np \n",
    "import pandas as pd\n",
    "pd.set_option('display.max_columns', None)\n",
    "pd.set_option('display.max_rows', None)\n",
    "\n",
    "! pip install geopy\n",
    "from geopy.geocoders import Nominatim # convert an address into latitude and longitude values\n",
    "\n",
    "import requests \n",
    "from pandas.io.json import json_normalize # tranform JSON file into a pandas dataframe\n",
    "from sklearn.cluster import KMeans\n",
    "\n",
    "import folium \n",
    "\n",
    "print('Libraries imported.')"
   ]
  },
  {
   "cell_type": "code",
   "execution_count": 9,
   "metadata": {},
   "outputs": [
    {
     "name": "stdout",
     "output_type": "stream",
     "text": [
      "  RowNumber AnimalName AnimalGender  AnimalBirthMonth  \\\n",
      "0         1      PAIGE            F              2014   \n",
      "1         2       YOGI            M              2010   \n",
      "2         3        ALI            M              2014   \n",
      "3         4      QUEEN            F              2013   \n",
      "4         5       LOLA            F              2009   \n",
      "\n",
      "                              BreedName  Borough  ZipCode LicenseIssuedDate  \\\n",
      "0  American Pit Bull Mix / Pit Bull Mix      NaN    10035        09/12/2014   \n",
      "1                                 Boxer      NaN    10465        09/12/2014   \n",
      "2                               Basenji      NaN    10013        09/12/2014   \n",
      "3                      Akita Crossbreed      NaN    10013        09/12/2014   \n",
      "4                               Maltese      NaN    10028        09/12/2014   \n",
      "\n",
      "  LicenseExpiredDate  Extract Year  \n",
      "0         09/12/2017          2016  \n",
      "1         10/02/2017          2016  \n",
      "2         09/12/2019          2016  \n",
      "3         09/12/2017          2016  \n",
      "4         10/09/2017          2016  \n"
     ]
    },
    {
     "data": {
      "text/plain": [
       "(345727, 10)"
      ]
     },
     "execution_count": 9,
     "metadata": {},
     "output_type": "execute_result"
    }
   ],
   "source": [
    "df_0=pd.read_csv('NYC_Dog_Licensing_Dataset.csv') \n",
    "print(df_1.head())\n",
    "df_0.shape"
   ]
  },
  {
   "cell_type": "code",
   "execution_count": 11,
   "metadata": {},
   "outputs": [
    {
     "name": "stdout",
     "output_type": "stream",
     "text": [
      "     zip    borough   post_office         neighborhood  population  density\n",
      "0  10001  Manhattan  New York, NY  Chelsea and Clinton       21102    33959\n",
      "1  10002  Manhattan  New York, NY      Lower East Side       81410    92573\n",
      "2  10003  Manhattan  New York, NY      Lower East Side       56024    97188\n",
      "3  10004  Manhattan  New York, NY      Lower Manhattan        3089     5519\n",
      "4  10005  Manhattan  New York, NY      Lower Manhattan        7135    97048\n"
     ]
    },
    {
     "data": {
      "text/plain": [
       "(177, 6)"
      ]
     },
     "execution_count": 11,
     "metadata": {},
     "output_type": "execute_result"
    }
   ],
   "source": [
    "df_nyczipcod=pd.read_csv('nyc_zip_borough_neighborhoods_pop.csv') \n",
    "print(df_nyzipcod.head())\n",
    "\n",
    "df_nyczipcod.shape"
   ]
  },
  {
   "cell_type": "code",
   "execution_count": 18,
   "metadata": {},
   "outputs": [],
   "source": [
    "# Rename the \"zip\" column as \"ZipCode\"\n",
    "df_nyczipcod.rename(columns={'zip':'ZipCode'}, inplace=True)"
   ]
  },
  {
   "cell_type": "code",
   "execution_count": 20,
   "metadata": {},
   "outputs": [
    {
     "data": {
      "text/plain": [
       "(342394, 15)"
      ]
     },
     "execution_count": 20,
     "metadata": {},
     "output_type": "execute_result"
    }
   ],
   "source": [
    "# Merging the dogs dataset and the neighborhood dataset\n",
    "df_merged = pd.merge(df_0, df_nyczipcod, on=[\"ZipCode\"]) \n",
    "df_merged.shape"
   ]
  },
  {
   "cell_type": "code",
   "execution_count": 22,
   "metadata": {},
   "outputs": [
    {
     "data": {
      "text/html": [
       "<div>\n",
       "<style scoped>\n",
       "    .dataframe tbody tr th:only-of-type {\n",
       "        vertical-align: middle;\n",
       "    }\n",
       "\n",
       "    .dataframe tbody tr th {\n",
       "        vertical-align: top;\n",
       "    }\n",
       "\n",
       "    .dataframe thead th {\n",
       "        text-align: right;\n",
       "    }\n",
       "</style>\n",
       "<table border=\"1\" class=\"dataframe\">\n",
       "  <thead>\n",
       "    <tr style=\"text-align: right;\">\n",
       "      <th></th>\n",
       "      <th>RowNumber</th>\n",
       "      <th>AnimalName</th>\n",
       "      <th>AnimalGender</th>\n",
       "      <th>AnimalBirthMonth</th>\n",
       "      <th>BreedName</th>\n",
       "      <th>Borough</th>\n",
       "      <th>ZipCode</th>\n",
       "      <th>LicenseIssuedDate</th>\n",
       "      <th>LicenseExpiredDate</th>\n",
       "      <th>Extract Year</th>\n",
       "      <th>borough</th>\n",
       "      <th>post_office</th>\n",
       "      <th>neighborhood</th>\n",
       "      <th>population</th>\n",
       "      <th>density</th>\n",
       "    </tr>\n",
       "  </thead>\n",
       "  <tbody>\n",
       "    <tr>\n",
       "      <th>0</th>\n",
       "      <td>1</td>\n",
       "      <td>PAIGE</td>\n",
       "      <td>F</td>\n",
       "      <td>2014</td>\n",
       "      <td>American Pit Bull Mix / Pit Bull Mix</td>\n",
       "      <td>NaN</td>\n",
       "      <td>10035</td>\n",
       "      <td>09/12/2014</td>\n",
       "      <td>09/12/2017</td>\n",
       "      <td>2016</td>\n",
       "      <td>Manhattan</td>\n",
       "      <td>New York, NY</td>\n",
       "      <td>East Harlem</td>\n",
       "      <td>33969</td>\n",
       "      <td>24329</td>\n",
       "    </tr>\n",
       "    <tr>\n",
       "      <th>1</th>\n",
       "      <td>82</td>\n",
       "      <td>BRODY</td>\n",
       "      <td>M</td>\n",
       "      <td>2006</td>\n",
       "      <td>Cocker Spaniel</td>\n",
       "      <td>NaN</td>\n",
       "      <td>10035</td>\n",
       "      <td>09/16/2014</td>\n",
       "      <td>09/16/2016</td>\n",
       "      <td>2016</td>\n",
       "      <td>Manhattan</td>\n",
       "      <td>New York, NY</td>\n",
       "      <td>East Harlem</td>\n",
       "      <td>33969</td>\n",
       "      <td>24329</td>\n",
       "    </tr>\n",
       "    <tr>\n",
       "      <th>2</th>\n",
       "      <td>199</td>\n",
       "      <td>ROCKO</td>\n",
       "      <td>M</td>\n",
       "      <td>2013</td>\n",
       "      <td>Chihuahua</td>\n",
       "      <td>NaN</td>\n",
       "      <td>10035</td>\n",
       "      <td>09/27/2014</td>\n",
       "      <td>09/27/2017</td>\n",
       "      <td>2016</td>\n",
       "      <td>Manhattan</td>\n",
       "      <td>New York, NY</td>\n",
       "      <td>East Harlem</td>\n",
       "      <td>33969</td>\n",
       "      <td>24329</td>\n",
       "    </tr>\n",
       "    <tr>\n",
       "      <th>3</th>\n",
       "      <td>282</td>\n",
       "      <td>SENSATION</td>\n",
       "      <td>F</td>\n",
       "      <td>2014</td>\n",
       "      <td>Mastiff</td>\n",
       "      <td>NaN</td>\n",
       "      <td>10035</td>\n",
       "      <td>10/05/2014</td>\n",
       "      <td>10/05/2016</td>\n",
       "      <td>2016</td>\n",
       "      <td>Manhattan</td>\n",
       "      <td>New York, NY</td>\n",
       "      <td>East Harlem</td>\n",
       "      <td>33969</td>\n",
       "      <td>24329</td>\n",
       "    </tr>\n",
       "    <tr>\n",
       "      <th>4</th>\n",
       "      <td>290</td>\n",
       "      <td>TEMPTATION</td>\n",
       "      <td>M</td>\n",
       "      <td>2014</td>\n",
       "      <td>Mastiff</td>\n",
       "      <td>NaN</td>\n",
       "      <td>10035</td>\n",
       "      <td>10/05/2014</td>\n",
       "      <td>10/05/2016</td>\n",
       "      <td>2016</td>\n",
       "      <td>Manhattan</td>\n",
       "      <td>New York, NY</td>\n",
       "      <td>East Harlem</td>\n",
       "      <td>33969</td>\n",
       "      <td>24329</td>\n",
       "    </tr>\n",
       "  </tbody>\n",
       "</table>\n",
       "</div>"
      ],
      "text/plain": [
       "  RowNumber  AnimalName AnimalGender  AnimalBirthMonth  \\\n",
       "0         1       PAIGE            F              2014   \n",
       "1        82       BRODY            M              2006   \n",
       "2       199       ROCKO            M              2013   \n",
       "3       282   SENSATION            F              2014   \n",
       "4       290  TEMPTATION            M              2014   \n",
       "\n",
       "                              BreedName  Borough  ZipCode LicenseIssuedDate  \\\n",
       "0  American Pit Bull Mix / Pit Bull Mix      NaN    10035        09/12/2014   \n",
       "1                        Cocker Spaniel      NaN    10035        09/16/2014   \n",
       "2                             Chihuahua      NaN    10035        09/27/2014   \n",
       "3                               Mastiff      NaN    10035        10/05/2014   \n",
       "4                               Mastiff      NaN    10035        10/05/2014   \n",
       "\n",
       "  LicenseExpiredDate  Extract Year    borough   post_office neighborhood  \\\n",
       "0         09/12/2017          2016  Manhattan  New York, NY  East Harlem   \n",
       "1         09/16/2016          2016  Manhattan  New York, NY  East Harlem   \n",
       "2         09/27/2017          2016  Manhattan  New York, NY  East Harlem   \n",
       "3         10/05/2016          2016  Manhattan  New York, NY  East Harlem   \n",
       "4         10/05/2016          2016  Manhattan  New York, NY  East Harlem   \n",
       "\n",
       "   population  density  \n",
       "0       33969    24329  \n",
       "1       33969    24329  \n",
       "2       33969    24329  \n",
       "3       33969    24329  \n",
       "4       33969    24329  "
      ]
     },
     "execution_count": 22,
     "metadata": {},
     "output_type": "execute_result"
    }
   ],
   "source": [
    "df_merged.head(5)"
   ]
  },
  {
   "cell_type": "markdown",
   "metadata": {},
   "source": [
    "# Cleaning the dataset"
   ]
  },
  {
   "cell_type": "code",
   "execution_count": 23,
   "metadata": {},
   "outputs": [],
   "source": [
    "# Drop the columns we don't need\n",
    "df_merged_drop=df_merged.drop(['RowNumber','Borough','Extract Year','ZipCode','post_office','LicenseIssuedDate','density','population'],axis=1)"
   ]
  },
  {
   "cell_type": "code",
   "execution_count": 24,
   "metadata": {},
   "outputs": [
    {
     "data": {
      "text/plain": [
       "(341677, 7)"
      ]
     },
     "execution_count": 24,
     "metadata": {},
     "output_type": "execute_result"
    }
   ],
   "source": [
    "#Drop the rows where at least one element is missing\n",
    "df_merged_drop2=df_merged_drop.dropna()\n",
    "df_merged_drop2.shape"
   ]
  },
  {
   "cell_type": "code",
   "execution_count": 25,
   "metadata": {},
   "outputs": [],
   "source": [
    "# Rename some columns\n",
    "df_merged_clean = df_merged_drop2.rename(columns= {'AnimalName':'Dog_Name','AnimalGender':'Dog_Gender','AnimalBirthMonth':'Dog_BirthYear',\n",
    "                                         'BreedName':'Breed_Name','borough':'Borough','neighborhood':'Neighborhood'})"
   ]
  },
  {
   "cell_type": "code",
   "execution_count": 26,
   "metadata": {},
   "outputs": [
    {
     "data": {
      "text/plain": [
       "(311032, 7)"
      ]
     },
     "execution_count": 26,
     "metadata": {},
     "output_type": "execute_result"
    }
   ],
   "source": [
    "# Remove rows based on the license expired date\n",
    "df_merged_clean1 = df_merged_clean.drop(df_merged_drop2[df_merged_drop2['LicenseExpiredDate']<\"02/07/2020\"].index)\n",
    "df_merged_clean1.shape"
   ]
  },
  {
   "cell_type": "code",
   "execution_count": 27,
   "metadata": {},
   "outputs": [
    {
     "data": {
      "text/plain": [
       "LicenseExpiredDate\n",
       "02/07/2020     61\n",
       "02/07/2021     10\n",
       "02/07/2022     19\n",
       "02/07/2023     10\n",
       "02/08/2016     43\n",
       "02/08/2017    146\n",
       "02/08/2018    179\n",
       "02/08/2019    142\n",
       "02/08/2020     41\n",
       "02/08/2021     25\n",
       "02/08/2022     13\n",
       "02/08/2023      4\n",
       "02/09/2016     90\n",
       "02/09/2017    215\n",
       "02/09/2018    214\n",
       "02/09/2019    202\n",
       "02/09/2020     41\n",
       "02/09/2021     35\n",
       "02/09/2022      5\n",
       "02/09/2023      6\n",
       "Name: LicenseExpiredDate, dtype: int64"
      ]
     },
     "execution_count": 27,
     "metadata": {},
     "output_type": "execute_result"
    }
   ],
   "source": [
    "df_expired = pd.DataFrame(df_merged_clean1[\"LicenseExpiredDate\"].str.split(',', expand=True).stack(), columns=[\"LicenseExpiredDate\"])\n",
    "df_expired1=df_expired.groupby([\"LicenseExpiredDate\"])[\"LicenseExpiredDate\"].count()\n",
    "df_expired1.head(20)"
   ]
  },
  {
   "cell_type": "code",
   "execution_count": 29,
   "metadata": {},
   "outputs": [
    {
     "data": {
      "text/html": [
       "<div>\n",
       "<style scoped>\n",
       "    .dataframe tbody tr th:only-of-type {\n",
       "        vertical-align: middle;\n",
       "    }\n",
       "\n",
       "    .dataframe tbody tr th {\n",
       "        vertical-align: top;\n",
       "    }\n",
       "\n",
       "    .dataframe thead th {\n",
       "        text-align: right;\n",
       "    }\n",
       "</style>\n",
       "<table border=\"1\" class=\"dataframe\">\n",
       "  <thead>\n",
       "    <tr style=\"text-align: right;\">\n",
       "      <th></th>\n",
       "      <th>Dog_Name</th>\n",
       "      <th>Dog_Gender</th>\n",
       "      <th>Dog_BirthYear</th>\n",
       "      <th>Breed_Name</th>\n",
       "      <th>LicenseExpiredDate</th>\n",
       "      <th>Borough</th>\n",
       "      <th>Neighborhood</th>\n",
       "      <th>LicenseExpiredyear</th>\n",
       "    </tr>\n",
       "  </thead>\n",
       "  <tbody>\n",
       "    <tr>\n",
       "      <th>0</th>\n",
       "      <td>PAIGE</td>\n",
       "      <td>F</td>\n",
       "      <td>2014</td>\n",
       "      <td>American Pit Bull Mix / Pit Bull Mix</td>\n",
       "      <td>2017-09-12</td>\n",
       "      <td>Manhattan</td>\n",
       "      <td>East Harlem</td>\n",
       "      <td>2017</td>\n",
       "    </tr>\n",
       "    <tr>\n",
       "      <th>1</th>\n",
       "      <td>BRODY</td>\n",
       "      <td>M</td>\n",
       "      <td>2006</td>\n",
       "      <td>Cocker Spaniel</td>\n",
       "      <td>2016-09-16</td>\n",
       "      <td>Manhattan</td>\n",
       "      <td>East Harlem</td>\n",
       "      <td>2016</td>\n",
       "    </tr>\n",
       "    <tr>\n",
       "      <th>2</th>\n",
       "      <td>ROCKO</td>\n",
       "      <td>M</td>\n",
       "      <td>2013</td>\n",
       "      <td>Chihuahua</td>\n",
       "      <td>2017-09-27</td>\n",
       "      <td>Manhattan</td>\n",
       "      <td>East Harlem</td>\n",
       "      <td>2017</td>\n",
       "    </tr>\n",
       "    <tr>\n",
       "      <th>3</th>\n",
       "      <td>SENSATION</td>\n",
       "      <td>F</td>\n",
       "      <td>2014</td>\n",
       "      <td>Mastiff</td>\n",
       "      <td>2016-10-05</td>\n",
       "      <td>Manhattan</td>\n",
       "      <td>East Harlem</td>\n",
       "      <td>2016</td>\n",
       "    </tr>\n",
       "    <tr>\n",
       "      <th>4</th>\n",
       "      <td>TEMPTATION</td>\n",
       "      <td>M</td>\n",
       "      <td>2014</td>\n",
       "      <td>Mastiff</td>\n",
       "      <td>2016-10-05</td>\n",
       "      <td>Manhattan</td>\n",
       "      <td>East Harlem</td>\n",
       "      <td>2016</td>\n",
       "    </tr>\n",
       "  </tbody>\n",
       "</table>\n",
       "</div>"
      ],
      "text/plain": [
       "     Dog_Name Dog_Gender  Dog_BirthYear                            Breed_Name  \\\n",
       "0       PAIGE          F           2014  American Pit Bull Mix / Pit Bull Mix   \n",
       "1       BRODY          M           2006                        Cocker Spaniel   \n",
       "2       ROCKO          M           2013                             Chihuahua   \n",
       "3   SENSATION          F           2014                               Mastiff   \n",
       "4  TEMPTATION          M           2014                               Mastiff   \n",
       "\n",
       "  LicenseExpiredDate    Borough Neighborhood  LicenseExpiredyear  \n",
       "0         2017-09-12  Manhattan  East Harlem                2017  \n",
       "1         2016-09-16  Manhattan  East Harlem                2016  \n",
       "2         2017-09-27  Manhattan  East Harlem                2017  \n",
       "3         2016-10-05  Manhattan  East Harlem                2016  \n",
       "4         2016-10-05  Manhattan  East Harlem                2016  "
      ]
     },
     "execution_count": 29,
     "metadata": {},
     "output_type": "execute_result"
    }
   ],
   "source": [
    "# Converting object to datetime format\n",
    "df_merged_clean1['LicenseExpiredDate'] = pd.to_datetime(df_merged_clean1['LicenseExpiredDate'])\n",
    "\n",
    "# Extract year, month, day. Assign all these date component to new column.\n",
    "df_merged_clean1['LicenseExpiredyear'] = df_merged_clean1['LicenseExpiredDate'].dt.year\n",
    "df_merged_clean1.head()"
   ]
  },
  {
   "cell_type": "code",
   "execution_count": 33,
   "metadata": {},
   "outputs": [
    {
     "data": {
      "image/png": "[encoded data removed]",
      "text/plain": [
       "<Figure size 720x360 with 1 Axes>"
      ]
     },
     "metadata": {
      "needs_background": "light"
     },
     "output_type": "display_data"
    }
   ],
   "source": [
    "# Check out the distribution for \"Dog_BirthYear\" column\n",
    "df_merged_clean1['LicenseExpiredyear'].plot(kind='hist', figsize=(10, 5), color='#ea7899')\n",
    "\n",
    "plt.title('Histogram of License Expired year') # add a title\n",
    "plt.ylabel('Number of Dogs') # add y-label\n",
    "plt.xlabel('License Expired year') # add x-label\n",
    "\n",
    "plt.show()"
   ]
  },
  {
   "cell_type": "code",
   "execution_count": 34,
   "metadata": {},
   "outputs": [
    {
     "data": {
      "text/plain": [
       "(26994, 8)"
      ]
     },
     "execution_count": 34,
     "metadata": {},
     "output_type": "execute_result"
    }
   ],
   "source": [
    "#Remove the rows where the license has expired.\n",
    "df_merged_c = df_merged_clean1.drop(df_merged_clean1[df_merged_clean1['LicenseExpiredyear']<2020].index)  \n",
    "df_merged_c.shape"
   ]
  },
  {
   "cell_type": "code",
   "execution_count": 35,
   "metadata": {},
   "outputs": [
    {
     "name": "stdout",
     "output_type": "stream",
     "text": [
      "0\n"
     ]
    }
   ],
   "source": [
    "# To see whether therea are any missing values\n",
    "count = df_merged_c[\"LicenseExpiredDate\"].isna().sum() \n",
    "print(count)"
   ]
  },
  {
   "cell_type": "code",
   "execution_count": 36,
   "metadata": {},
   "outputs": [
    {
     "data": {
      "text/html": [
       "<div>\n",
       "<style scoped>\n",
       "    .dataframe tbody tr th:only-of-type {\n",
       "        vertical-align: middle;\n",
       "    }\n",
       "\n",
       "    .dataframe tbody tr th {\n",
       "        vertical-align: top;\n",
       "    }\n",
       "\n",
       "    .dataframe thead th {\n",
       "        text-align: right;\n",
       "    }\n",
       "</style>\n",
       "<table border=\"1\" class=\"dataframe\">\n",
       "  <thead>\n",
       "    <tr style=\"text-align: right;\">\n",
       "      <th></th>\n",
       "      <th>Dog_Name</th>\n",
       "      <th>Dog_Gender</th>\n",
       "      <th>Dog_BirthYear</th>\n",
       "      <th>Breed_Name</th>\n",
       "      <th>LicenseExpiredDate</th>\n",
       "      <th>Borough</th>\n",
       "      <th>Neighborhood</th>\n",
       "      <th>LicenseExpiredyear</th>\n",
       "    </tr>\n",
       "  </thead>\n",
       "  <tbody>\n",
       "    <tr>\n",
       "      <th>25</th>\n",
       "      <td>BEANS</td>\n",
       "      <td>M</td>\n",
       "      <td>2011</td>\n",
       "      <td>Boston Terrier</td>\n",
       "      <td>2020-03-17</td>\n",
       "      <td>Manhattan</td>\n",
       "      <td>East Harlem</td>\n",
       "      <td>2020</td>\n",
       "    </tr>\n",
       "    <tr>\n",
       "      <th>36</th>\n",
       "      <td>TALA</td>\n",
       "      <td>F</td>\n",
       "      <td>2009</td>\n",
       "      <td>Unknown</td>\n",
       "      <td>2020-03-22</td>\n",
       "      <td>Manhattan</td>\n",
       "      <td>East Harlem</td>\n",
       "      <td>2020</td>\n",
       "    </tr>\n",
       "    <tr>\n",
       "      <th>37</th>\n",
       "      <td>OLIVER</td>\n",
       "      <td>M</td>\n",
       "      <td>2005</td>\n",
       "      <td>Unknown</td>\n",
       "      <td>2020-03-22</td>\n",
       "      <td>Manhattan</td>\n",
       "      <td>East Harlem</td>\n",
       "      <td>2020</td>\n",
       "    </tr>\n",
       "    <tr>\n",
       "      <th>39</th>\n",
       "      <td>SHADOW</td>\n",
       "      <td>M</td>\n",
       "      <td>2013</td>\n",
       "      <td>American Pit Bull Mix / Pit Bull Mix</td>\n",
       "      <td>2020-03-22</td>\n",
       "      <td>Manhattan</td>\n",
       "      <td>East Harlem</td>\n",
       "      <td>2020</td>\n",
       "    </tr>\n",
       "    <tr>\n",
       "      <th>46</th>\n",
       "      <td>SPOTS</td>\n",
       "      <td>M</td>\n",
       "      <td>2010</td>\n",
       "      <td>Shih Tzu</td>\n",
       "      <td>2020-05-24</td>\n",
       "      <td>Manhattan</td>\n",
       "      <td>East Harlem</td>\n",
       "      <td>2020</td>\n",
       "    </tr>\n",
       "  </tbody>\n",
       "</table>\n",
       "</div>"
      ],
      "text/plain": [
       "   Dog_Name Dog_Gender  Dog_BirthYear                            Breed_Name  \\\n",
       "25    BEANS          M           2011                        Boston Terrier   \n",
       "36     TALA          F           2009                               Unknown   \n",
       "37   OLIVER          M           2005                               Unknown   \n",
       "39   SHADOW          M           2013  American Pit Bull Mix / Pit Bull Mix   \n",
       "46    SPOTS          M           2010                              Shih Tzu   \n",
       "\n",
       "   LicenseExpiredDate    Borough Neighborhood  LicenseExpiredyear  \n",
       "25         2020-03-17  Manhattan  East Harlem                2020  \n",
       "36         2020-03-22  Manhattan  East Harlem                2020  \n",
       "37         2020-03-22  Manhattan  East Harlem                2020  \n",
       "39         2020-03-22  Manhattan  East Harlem                2020  \n",
       "46         2020-05-24  Manhattan  East Harlem                2020  "
      ]
     },
     "execution_count": 36,
     "metadata": {},
     "output_type": "execute_result"
    }
   ],
   "source": [
    "df_merged_c.head(5)"
   ]
  },
  {
   "cell_type": "code",
   "execution_count": null,
   "metadata": {},
   "outputs": [],
   "source": []
  }
 ],
 "metadata": {
  "kernelspec": {
   "display_name": "Python 3",
   "language": "python",
   "name": "python3"
  },
  "language_info": {
   "codemirror_mode": {
    "name": "ipython",
    "version": 3
   },
   "file_extension": ".py",
   "mimetype": "text/x-python",
   "name": "python",
   "nbconvert_exporter": "python",
   "pygments_lexer": "ipython3",
   "version": "3.7.6"
  },
  "widgets": {
   "state": {},
   "version": "1.1.2"
  }
 },
 "nbformat": 4,
 "nbformat_minor": 4
}
